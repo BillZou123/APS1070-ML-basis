{
  "nbformat": 4,
  "nbformat_minor": 0,
  "metadata": {
    "kernelspec": {
      "display_name": "Python 3",
      "language": "python",
      "name": "python3"
    },
    "language_info": {
      "codemirror_mode": {
        "name": "ipython",
        "version": 3
      },
      "file_extension": ".py",
      "mimetype": "text/x-python",
      "name": "python",
      "nbconvert_exporter": "python",
      "pygments_lexer": "ipython3",
      "version": "3.7.4"
    },
    "colab": {
      "provenance": []
    },
    "gpuClass": "standard"
  },
  "cells": [
    {
      "cell_type": "markdown",
      "metadata": {
        "id": "08owH-AVyZCX"
      },
      "source": [
        "# APS1070\n",
        "#### Project 1 --- Basic Principles and Models \n",
        "**Deadline: Feb 2nd, 11PM - 10 percent**"
      ]
    },
    {
      "cell_type": "markdown",
      "metadata": {
        "id": "fRZ3wBoe398S"
      },
      "source": [
        "**Academic Integrity**\n",
        "\n",
        "This project is individual - it is to be completed on your own. If you have questions, please post your query in the APS1070 Piazza Q&A forums (the answer might be useful to others!).\n",
        "\n",
        "Do not share your code with others, or post your work online. Do not submit code that you have not written yourself. Students suspected of plagiarism on a project, midterm or exam will be referred to the department for formal discipline for breaches of the Student Code of Conduct."
      ]
    },
    {
      "cell_type": "markdown",
      "metadata": {
        "id": "qonbueFGyemb"
      },
      "source": [
        "Name: A good man\n",
        "\n",
        "Student ID: "
      ]
    },
    {
      "cell_type": "markdown",
      "metadata": {
        "id": "Dykrw3cyy7PF"
      },
      "source": [
        "##**Marking Scheme:**\n",
        "\n",
        "This project is worth **10 percent** of your final grade.\n",
        "\n",
        "Draw a plot or table where necessary to summarize your findings. \n",
        "\n",
        "**Practice Vectorized coding**: If you need to write a loop in your solution, think about how you can implement the same functionality with vectorized operations. Try to avoid loops as much as possible (in some cases, loops are inevitable).\n",
        "\n",
        "\n"
      ]
    },
    {
      "cell_type": "markdown",
      "source": [
        "### How to submit **(HTML + IPYNB)**\n",
        "\n",
        "1. Download your notebook: `File -> Download .ipynb`\n",
        "\n",
        "2. Click on the Files icon on the far left menu of Colab\n",
        "\n",
        "3. Select & upload your `.ipynb` file you just downloaded, and then obtain its path (right click) (you might need to hit the Refresh button before your file shows up)\n",
        "\n",
        "\n",
        "4. execute the following in a Colab cell:\n",
        "```\n",
        "%%shell\n",
        "jupyter nbconvert --to html /PATH/TO/YOUR/NOTEBOOKFILE.ipynb\n",
        "```\n",
        "\n",
        "5. An HTML version of your notebook will appear in the files, so you can download it.\n",
        "\n",
        "6. Submit **both** <font color='red'>`HTML` and `IPYNB`</font>  files on Quercus for grading.\n",
        "\n",
        "\n",
        "\n",
        "Ref: https://stackoverflow.com/a/64487858 \n",
        "\n"
      ],
      "metadata": {
        "id": "dBW_phAt5wYk"
      }
    },
    {
      "cell_type": "markdown",
      "metadata": {
        "id": "yYlo7mIXyZFe"
      },
      "source": [
        "# Project 1 [10 Marks] \n",
        "Let's apply the tools we have learned in the tutorial to a new dataset.\n",
        "\n",
        "We're going to work with a [diabetes dataset](https://scikit-learn.org/stable/modules/generated/sklearn.datasets.load_diabetes.html). Download it using the cell below:"
      ]
    },
    {
      "cell_type": "code",
      "metadata": {
        "id": "YFo8KVcryZFe"
      },
      "source": [
        "'''\n",
        "!pip install scikit-learn\n",
        "!pip install matplotlib\n",
        "!pip install pandas\n",
        "'''\n",
        "from sklearn.datasets import load_diabetes\n",
        "import sklearn\n",
        "import numpy as np\n",
        "import matplotlib.pyplot as plt\n",
        "dataset = load_diabetes()\n"
      ],
      "execution_count": 1,
      "outputs": []
    },
    {
      "cell_type": "markdown",
      "metadata": {
        "id": "gOGmwyQNyZFh"
      },
      "source": [
        "## Part 1: Getting started [2.5 Marks]\n",
        "First off, take a look at the `data`, `target` and `feature_names` entries in the `dataset` dictionary. They contain the information we'll be working with here. Then, create a Pandas DataFrame called `df` containing the data and the targets, with the feature names as column headings. If you need help, see [here](https://pandas.pydata.org/pandas-docs/stable/reference/api/pandas.DataFrame.html) for more details on how to achieve this. **[0.4]**\n",
        "* How many features do we have in this dataset? 10\n",
        "* Determine the median target value. 140.5\n",
        "* How many participants have a target value greater than the median target value? 221\n",
        "\n",
        "Now add an additional column containing either 0 (if the target value is below the median) or 1 (if the target value is above the median). This will be the new target value to classify the data as \"diabetes severity below median\" or \"diabetes severity above median\". **[0.5]**"
      ]
    },
    {
      "cell_type": "code",
      "source": [
        "import pandas as pd\n",
        "# check data entry \n",
        "#print(dataset['data'])\n",
        "# check target entery\n",
        "#print(dataset['target'])\n",
        "#check feature_names entry\n",
        "#print(dataset['feature_names'])\n",
        "# create pandas dataframe\n",
        "df = pd.DataFrame(data = dataset.data, columns = dataset.feature_names)\n",
        "df['target'] = dataset.target\n",
        "print(df)\n",
        "\n",
        "#check number of features\n",
        "print(f\"Number of features: {len(dataset['feature_names'])}\")\n",
        "#get the median value of target\n",
        "print(f\"The median value of target: { df['target'].median()}\")\n",
        "#check the number of people with target value > median target value\n",
        "#method 1:use a loop\n",
        "target_median = df['target'].median()\n",
        "counter = 0\n",
        "for row in df.iterrows():\n",
        "  if row[1]['target'] > target_median:\n",
        "    counter += 1\n",
        "  else:\n",
        "    pass\n",
        "print(f\"Number of participants with target value > median target value: {counter}\")\n",
        "#method2: no loops, select a subset of original dataframe based on target values\n",
        "df2 = df[df['target'] > target_median]\n",
        "print(f\"Number of participants with target value > median target value: {len(df2)}\")\n",
        "\n",
        "#add an additional column containing either 0 (if the target value is below the median) or 1 (if the target value is above the median)\n",
        "# We will call the new column 'label'\n",
        "df['label'] = (df['target'] > target_median) * 1\n",
        "df['label']"
      ],
      "metadata": {
        "colab": {
          "base_uri": "https://localhost:8080/"
        },
        "id": "0AIxkUcRwlh2",
        "outputId": "1c00d4ed-9273-492e-c7b9-00a732569a4b"
      },
      "execution_count": 2,
      "outputs": [
        {
          "output_type": "stream",
          "name": "stdout",
          "text": [
            "          age       sex       bmi        bp        s1        s2        s3  \\\n",
            "0    0.038076  0.050680  0.061696  0.021872 -0.044223 -0.034821 -0.043401   \n",
            "1   -0.001882 -0.044642 -0.051474 -0.026328 -0.008449 -0.019163  0.074412   \n",
            "2    0.085299  0.050680  0.044451 -0.005671 -0.045599 -0.034194 -0.032356   \n",
            "3   -0.089063 -0.044642 -0.011595 -0.036656  0.012191  0.024991 -0.036038   \n",
            "4    0.005383 -0.044642 -0.036385  0.021872  0.003935  0.015596  0.008142   \n",
            "..        ...       ...       ...       ...       ...       ...       ...   \n",
            "437  0.041708  0.050680  0.019662  0.059744 -0.005697 -0.002566 -0.028674   \n",
            "438 -0.005515  0.050680 -0.015906 -0.067642  0.049341  0.079165 -0.028674   \n",
            "439  0.041708  0.050680 -0.015906  0.017282 -0.037344 -0.013840 -0.024993   \n",
            "440 -0.045472 -0.044642  0.039062  0.001215  0.016318  0.015283 -0.028674   \n",
            "441 -0.045472 -0.044642 -0.073030 -0.081414  0.083740  0.027809  0.173816   \n",
            "\n",
            "           s4        s5        s6  target  \n",
            "0   -0.002592  0.019908 -0.017646   151.0  \n",
            "1   -0.039493 -0.068330 -0.092204    75.0  \n",
            "2   -0.002592  0.002864 -0.025930   141.0  \n",
            "3    0.034309  0.022692 -0.009362   206.0  \n",
            "4   -0.002592 -0.031991 -0.046641   135.0  \n",
            "..        ...       ...       ...     ...  \n",
            "437 -0.002592  0.031193  0.007207   178.0  \n",
            "438  0.034309 -0.018118  0.044485   104.0  \n",
            "439 -0.011080 -0.046879  0.015491   132.0  \n",
            "440  0.026560  0.044528 -0.025930   220.0  \n",
            "441 -0.039493 -0.004220  0.003064    57.0  \n",
            "\n",
            "[442 rows x 11 columns]\n",
            "Number of features: 10\n",
            "The median value of target: 140.5\n",
            "Number of participants with target value > median target value: 221\n",
            "Number of participants with target value > median target value: 221\n"
          ]
        },
        {
          "output_type": "execute_result",
          "data": {
            "text/plain": [
              "0      1\n",
              "1      0\n",
              "2      1\n",
              "3      1\n",
              "4      0\n",
              "      ..\n",
              "437    1\n",
              "438    0\n",
              "439    0\n",
              "440    1\n",
              "441    0\n",
              "Name: label, Length: 442, dtype: int64"
            ]
          },
          "metadata": {},
          "execution_count": 2
        }
      ]
    },
    {
      "cell_type": "code",
      "source": [
        "df"
      ],
      "metadata": {
        "colab": {
          "base_uri": "https://localhost:8080/",
          "height": 424
        },
        "id": "qCujQXkH4L2S",
        "outputId": "51106900-2171-40ac-aa95-58cb1468dd9f"
      },
      "execution_count": 3,
      "outputs": [
        {
          "output_type": "execute_result",
          "data": {
            "text/plain": [
              "          age       sex       bmi        bp        s1        s2        s3  \\\n",
              "0    0.038076  0.050680  0.061696  0.021872 -0.044223 -0.034821 -0.043401   \n",
              "1   -0.001882 -0.044642 -0.051474 -0.026328 -0.008449 -0.019163  0.074412   \n",
              "2    0.085299  0.050680  0.044451 -0.005671 -0.045599 -0.034194 -0.032356   \n",
              "3   -0.089063 -0.044642 -0.011595 -0.036656  0.012191  0.024991 -0.036038   \n",
              "4    0.005383 -0.044642 -0.036385  0.021872  0.003935  0.015596  0.008142   \n",
              "..        ...       ...       ...       ...       ...       ...       ...   \n",
              "437  0.041708  0.050680  0.019662  0.059744 -0.005697 -0.002566 -0.028674   \n",
              "438 -0.005515  0.050680 -0.015906 -0.067642  0.049341  0.079165 -0.028674   \n",
              "439  0.041708  0.050680 -0.015906  0.017282 -0.037344 -0.013840 -0.024993   \n",
              "440 -0.045472 -0.044642  0.039062  0.001215  0.016318  0.015283 -0.028674   \n",
              "441 -0.045472 -0.044642 -0.073030 -0.081414  0.083740  0.027809  0.173816   \n",
              "\n",
              "           s4        s5        s6  target  label  \n",
              "0   -0.002592  0.019908 -0.017646   151.0      1  \n",
              "1   -0.039493 -0.068330 -0.092204    75.0      0  \n",
              "2   -0.002592  0.002864 -0.025930   141.0      1  \n",
              "3    0.034309  0.022692 -0.009362   206.0      1  \n",
              "4   -0.002592 -0.031991 -0.046641   135.0      0  \n",
              "..        ...       ...       ...     ...    ...  \n",
              "437 -0.002592  0.031193  0.007207   178.0      1  \n",
              "438  0.034309 -0.018118  0.044485   104.0      0  \n",
              "439 -0.011080 -0.046879  0.015491   132.0      0  \n",
              "440  0.026560  0.044528 -0.025930   220.0      1  \n",
              "441 -0.039493 -0.004220  0.003064    57.0      0  \n",
              "\n",
              "[442 rows x 12 columns]"
            ],
            "text/html": [
              "\n",
              "  <div id=\"df-f40fd46b-e115-4fc0-8f66-8cb775153e42\">\n",
              "    <div class=\"colab-df-container\">\n",
              "      <div>\n",
              "<style scoped>\n",
              "    .dataframe tbody tr th:only-of-type {\n",
              "        vertical-align: middle;\n",
              "    }\n",
              "\n",
              "    .dataframe tbody tr th {\n",
              "        vertical-align: top;\n",
              "    }\n",
              "\n",
              "    .dataframe thead th {\n",
              "        text-align: right;\n",
              "    }\n",
              "</style>\n",
              "<table border=\"1\" class=\"dataframe\">\n",
              "  <thead>\n",
              "    <tr style=\"text-align: right;\">\n",
              "      <th></th>\n",
              "      <th>age</th>\n",
              "      <th>sex</th>\n",
              "      <th>bmi</th>\n",
              "      <th>bp</th>\n",
              "      <th>s1</th>\n",
              "      <th>s2</th>\n",
              "      <th>s3</th>\n",
              "      <th>s4</th>\n",
              "      <th>s5</th>\n",
              "      <th>s6</th>\n",
              "      <th>target</th>\n",
              "      <th>label</th>\n",
              "    </tr>\n",
              "  </thead>\n",
              "  <tbody>\n",
              "    <tr>\n",
              "      <th>0</th>\n",
              "      <td>0.038076</td>\n",
              "      <td>0.050680</td>\n",
              "      <td>0.061696</td>\n",
              "      <td>0.021872</td>\n",
              "      <td>-0.044223</td>\n",
              "      <td>-0.034821</td>\n",
              "      <td>-0.043401</td>\n",
              "      <td>-0.002592</td>\n",
              "      <td>0.019908</td>\n",
              "      <td>-0.017646</td>\n",
              "      <td>151.0</td>\n",
              "      <td>1</td>\n",
              "    </tr>\n",
              "    <tr>\n",
              "      <th>1</th>\n",
              "      <td>-0.001882</td>\n",
              "      <td>-0.044642</td>\n",
              "      <td>-0.051474</td>\n",
              "      <td>-0.026328</td>\n",
              "      <td>-0.008449</td>\n",
              "      <td>-0.019163</td>\n",
              "      <td>0.074412</td>\n",
              "      <td>-0.039493</td>\n",
              "      <td>-0.068330</td>\n",
              "      <td>-0.092204</td>\n",
              "      <td>75.0</td>\n",
              "      <td>0</td>\n",
              "    </tr>\n",
              "    <tr>\n",
              "      <th>2</th>\n",
              "      <td>0.085299</td>\n",
              "      <td>0.050680</td>\n",
              "      <td>0.044451</td>\n",
              "      <td>-0.005671</td>\n",
              "      <td>-0.045599</td>\n",
              "      <td>-0.034194</td>\n",
              "      <td>-0.032356</td>\n",
              "      <td>-0.002592</td>\n",
              "      <td>0.002864</td>\n",
              "      <td>-0.025930</td>\n",
              "      <td>141.0</td>\n",
              "      <td>1</td>\n",
              "    </tr>\n",
              "    <tr>\n",
              "      <th>3</th>\n",
              "      <td>-0.089063</td>\n",
              "      <td>-0.044642</td>\n",
              "      <td>-0.011595</td>\n",
              "      <td>-0.036656</td>\n",
              "      <td>0.012191</td>\n",
              "      <td>0.024991</td>\n",
              "      <td>-0.036038</td>\n",
              "      <td>0.034309</td>\n",
              "      <td>0.022692</td>\n",
              "      <td>-0.009362</td>\n",
              "      <td>206.0</td>\n",
              "      <td>1</td>\n",
              "    </tr>\n",
              "    <tr>\n",
              "      <th>4</th>\n",
              "      <td>0.005383</td>\n",
              "      <td>-0.044642</td>\n",
              "      <td>-0.036385</td>\n",
              "      <td>0.021872</td>\n",
              "      <td>0.003935</td>\n",
              "      <td>0.015596</td>\n",
              "      <td>0.008142</td>\n",
              "      <td>-0.002592</td>\n",
              "      <td>-0.031991</td>\n",
              "      <td>-0.046641</td>\n",
              "      <td>135.0</td>\n",
              "      <td>0</td>\n",
              "    </tr>\n",
              "    <tr>\n",
              "      <th>...</th>\n",
              "      <td>...</td>\n",
              "      <td>...</td>\n",
              "      <td>...</td>\n",
              "      <td>...</td>\n",
              "      <td>...</td>\n",
              "      <td>...</td>\n",
              "      <td>...</td>\n",
              "      <td>...</td>\n",
              "      <td>...</td>\n",
              "      <td>...</td>\n",
              "      <td>...</td>\n",
              "      <td>...</td>\n",
              "    </tr>\n",
              "    <tr>\n",
              "      <th>437</th>\n",
              "      <td>0.041708</td>\n",
              "      <td>0.050680</td>\n",
              "      <td>0.019662</td>\n",
              "      <td>0.059744</td>\n",
              "      <td>-0.005697</td>\n",
              "      <td>-0.002566</td>\n",
              "      <td>-0.028674</td>\n",
              "      <td>-0.002592</td>\n",
              "      <td>0.031193</td>\n",
              "      <td>0.007207</td>\n",
              "      <td>178.0</td>\n",
              "      <td>1</td>\n",
              "    </tr>\n",
              "    <tr>\n",
              "      <th>438</th>\n",
              "      <td>-0.005515</td>\n",
              "      <td>0.050680</td>\n",
              "      <td>-0.015906</td>\n",
              "      <td>-0.067642</td>\n",
              "      <td>0.049341</td>\n",
              "      <td>0.079165</td>\n",
              "      <td>-0.028674</td>\n",
              "      <td>0.034309</td>\n",
              "      <td>-0.018118</td>\n",
              "      <td>0.044485</td>\n",
              "      <td>104.0</td>\n",
              "      <td>0</td>\n",
              "    </tr>\n",
              "    <tr>\n",
              "      <th>439</th>\n",
              "      <td>0.041708</td>\n",
              "      <td>0.050680</td>\n",
              "      <td>-0.015906</td>\n",
              "      <td>0.017282</td>\n",
              "      <td>-0.037344</td>\n",
              "      <td>-0.013840</td>\n",
              "      <td>-0.024993</td>\n",
              "      <td>-0.011080</td>\n",
              "      <td>-0.046879</td>\n",
              "      <td>0.015491</td>\n",
              "      <td>132.0</td>\n",
              "      <td>0</td>\n",
              "    </tr>\n",
              "    <tr>\n",
              "      <th>440</th>\n",
              "      <td>-0.045472</td>\n",
              "      <td>-0.044642</td>\n",
              "      <td>0.039062</td>\n",
              "      <td>0.001215</td>\n",
              "      <td>0.016318</td>\n",
              "      <td>0.015283</td>\n",
              "      <td>-0.028674</td>\n",
              "      <td>0.026560</td>\n",
              "      <td>0.044528</td>\n",
              "      <td>-0.025930</td>\n",
              "      <td>220.0</td>\n",
              "      <td>1</td>\n",
              "    </tr>\n",
              "    <tr>\n",
              "      <th>441</th>\n",
              "      <td>-0.045472</td>\n",
              "      <td>-0.044642</td>\n",
              "      <td>-0.073030</td>\n",
              "      <td>-0.081414</td>\n",
              "      <td>0.083740</td>\n",
              "      <td>0.027809</td>\n",
              "      <td>0.173816</td>\n",
              "      <td>-0.039493</td>\n",
              "      <td>-0.004220</td>\n",
              "      <td>0.003064</td>\n",
              "      <td>57.0</td>\n",
              "      <td>0</td>\n",
              "    </tr>\n",
              "  </tbody>\n",
              "</table>\n",
              "<p>442 rows × 12 columns</p>\n",
              "</div>\n",
              "      <button class=\"colab-df-convert\" onclick=\"convertToInteractive('df-f40fd46b-e115-4fc0-8f66-8cb775153e42')\"\n",
              "              title=\"Convert this dataframe to an interactive table.\"\n",
              "              style=\"display:none;\">\n",
              "        \n",
              "  <svg xmlns=\"http://www.w3.org/2000/svg\" height=\"24px\"viewBox=\"0 0 24 24\"\n",
              "       width=\"24px\">\n",
              "    <path d=\"M0 0h24v24H0V0z\" fill=\"none\"/>\n",
              "    <path d=\"M18.56 5.44l.94 2.06.94-2.06 2.06-.94-2.06-.94-.94-2.06-.94 2.06-2.06.94zm-11 1L8.5 8.5l.94-2.06 2.06-.94-2.06-.94L8.5 2.5l-.94 2.06-2.06.94zm10 10l.94 2.06.94-2.06 2.06-.94-2.06-.94-.94-2.06-.94 2.06-2.06.94z\"/><path d=\"M17.41 7.96l-1.37-1.37c-.4-.4-.92-.59-1.43-.59-.52 0-1.04.2-1.43.59L10.3 9.45l-7.72 7.72c-.78.78-.78 2.05 0 2.83L4 21.41c.39.39.9.59 1.41.59.51 0 1.02-.2 1.41-.59l7.78-7.78 2.81-2.81c.8-.78.8-2.07 0-2.86zM5.41 20L4 18.59l7.72-7.72 1.47 1.35L5.41 20z\"/>\n",
              "  </svg>\n",
              "      </button>\n",
              "      \n",
              "  <style>\n",
              "    .colab-df-container {\n",
              "      display:flex;\n",
              "      flex-wrap:wrap;\n",
              "      gap: 12px;\n",
              "    }\n",
              "\n",
              "    .colab-df-convert {\n",
              "      background-color: #E8F0FE;\n",
              "      border: none;\n",
              "      border-radius: 50%;\n",
              "      cursor: pointer;\n",
              "      display: none;\n",
              "      fill: #1967D2;\n",
              "      height: 32px;\n",
              "      padding: 0 0 0 0;\n",
              "      width: 32px;\n",
              "    }\n",
              "\n",
              "    .colab-df-convert:hover {\n",
              "      background-color: #E2EBFA;\n",
              "      box-shadow: 0px 1px 2px rgba(60, 64, 67, 0.3), 0px 1px 3px 1px rgba(60, 64, 67, 0.15);\n",
              "      fill: #174EA6;\n",
              "    }\n",
              "\n",
              "    [theme=dark] .colab-df-convert {\n",
              "      background-color: #3B4455;\n",
              "      fill: #D2E3FC;\n",
              "    }\n",
              "\n",
              "    [theme=dark] .colab-df-convert:hover {\n",
              "      background-color: #434B5C;\n",
              "      box-shadow: 0px 1px 3px 1px rgba(0, 0, 0, 0.15);\n",
              "      filter: drop-shadow(0px 1px 2px rgba(0, 0, 0, 0.3));\n",
              "      fill: #FFFFFF;\n",
              "    }\n",
              "  </style>\n",
              "\n",
              "      <script>\n",
              "        const buttonEl =\n",
              "          document.querySelector('#df-f40fd46b-e115-4fc0-8f66-8cb775153e42 button.colab-df-convert');\n",
              "        buttonEl.style.display =\n",
              "          google.colab.kernel.accessAllowed ? 'block' : 'none';\n",
              "\n",
              "        async function convertToInteractive(key) {\n",
              "          const element = document.querySelector('#df-f40fd46b-e115-4fc0-8f66-8cb775153e42');\n",
              "          const dataTable =\n",
              "            await google.colab.kernel.invokeFunction('convertToInteractive',\n",
              "                                                     [key], {});\n",
              "          if (!dataTable) return;\n",
              "\n",
              "          const docLinkHtml = 'Like what you see? Visit the ' +\n",
              "            '<a target=\"_blank\" href=https://colab.research.google.com/notebooks/data_table.ipynb>data table notebook</a>'\n",
              "            + ' to learn more about interactive tables.';\n",
              "          element.innerHTML = '';\n",
              "          dataTable['output_type'] = 'display_data';\n",
              "          await google.colab.output.renderOutput(dataTable, element);\n",
              "          const docLink = document.createElement('div');\n",
              "          docLink.innerHTML = docLinkHtml;\n",
              "          element.appendChild(docLink);\n",
              "        }\n",
              "      </script>\n",
              "    </div>\n",
              "  </div>\n",
              "  "
            ]
          },
          "metadata": {},
          "execution_count": 3
        }
      ]
    },
    {
      "cell_type": "markdown",
      "metadata": {
        "id": "YyqBEQXGq-B0"
      },
      "source": [
        "### Splitting the data\n",
        "It is best practice to have a training set (from which there is a rotating validation subset) and a test set. Our aim here is to (eventually) obtain the best accuracy we can on the test set (we'll do all our tuning on the training/validation sets, however.) \n",
        "\n",
        "**Split the dataset** into a train and a test set **\"70:30\"**, use **``random_state=0``**. The test set is set aside (untouched) for final evaluation, once hyperparameter optimization is complete. **[0.5]**\n",
        "\n",
        "**Only Split the dataset once within you notebook.** You should not use the `train_test_split` function more than once, regardless of the random state. Keep this in mind for your future projects as well."
      ]
    },
    {
      "cell_type": "code",
      "metadata": {
        "id": "A5equ6ied8eg",
        "colab": {
          "base_uri": "https://localhost:8080/"
        },
        "outputId": "529adf59-9fbd-446e-d343-64cbe5de27e1"
      },
      "source": [
        "### YOUR CODE HERE ###\n",
        "from sklearn.model_selection import train_test_split\n",
        "\n",
        "X = df.drop(columns=['target', 'label'])# X contains all features\n",
        "y = df['label']# y contains all labels\n",
        "x_train, x_test, y_train, y_test = train_test_split(X, y, test_size = 0.3, random_state = 0)\n",
        "\n",
        "#combine x_train and y_train into Train Dataset\n",
        "train_dataset = x_train.copy()\n",
        "train_dataset['label'] = y_train\n",
        "\n",
        "#combine x_test and y_test into Test Dataset\n",
        "test_dataset = x_test.copy()\n",
        "test_dataset['label'] = y_test\n",
        "print(train_dataset)\n",
        "print(test_dataset)\n"
      ],
      "execution_count": 4,
      "outputs": [
        {
          "output_type": "stream",
          "name": "stdout",
          "text": [
            "          age       sex       bmi        bp        s1        s2        s3  \\\n",
            "232  0.012648  0.050680  0.000261 -0.011409  0.039710  0.057245 -0.039719   \n",
            "224 -0.027310 -0.044642 -0.066563 -0.112400 -0.049727 -0.041397  0.000779   \n",
            "252  0.005383 -0.044642  0.059541 -0.056166  0.024574  0.052861 -0.043401   \n",
            "254  0.030811  0.050680  0.056307  0.076958  0.049341 -0.012274 -0.036038   \n",
            "418  0.009016 -0.044642 -0.024529 -0.026328  0.098876  0.094196  0.070730   \n",
            "..        ...       ...       ...       ...       ...       ...       ...   \n",
            "323  0.070769  0.050680 -0.007284  0.049415  0.060349 -0.004445 -0.054446   \n",
            "192  0.056239  0.050680 -0.030996  0.008101  0.019070  0.021233  0.033914   \n",
            "117  0.059871 -0.044642 -0.021295  0.087287  0.045213  0.031567 -0.047082   \n",
            "47  -0.078165 -0.044642 -0.073030 -0.057314 -0.084126 -0.074277 -0.024993   \n",
            "172  0.041708  0.050680  0.071397  0.008101  0.038334  0.015909 -0.017629   \n",
            "\n",
            "           s4        s5        s6  label  \n",
            "232  0.056081  0.024053  0.032059      1  \n",
            "224 -0.039493 -0.035817 -0.009362      0  \n",
            "252  0.050914 -0.004220 -0.030072      0  \n",
            "254  0.071210  0.120053  0.090049      1  \n",
            "418 -0.002592 -0.021394  0.007207      0  \n",
            "..        ...       ...       ...    ...  \n",
            "323  0.108111  0.129019  0.056912      1  \n",
            "192 -0.039493 -0.029528 -0.059067      0  \n",
            "117  0.071210  0.079121  0.135612      1  \n",
            "47  -0.039493 -0.018118 -0.083920      1  \n",
            "172  0.034309  0.073410  0.085907      1  \n",
            "\n",
            "[309 rows x 11 columns]\n",
            "          age       sex       bmi        bp        s1        s2        s3  \\\n",
            "362  0.019913  0.050680  0.104809  0.070073 -0.035968 -0.026679 -0.024993   \n",
            "249 -0.012780 -0.044642  0.060618  0.052858  0.047965  0.029375 -0.017629   \n",
            "271  0.038076  0.050680  0.008883  0.042530 -0.042848 -0.021042 -0.039719   \n",
            "435 -0.012780 -0.044642 -0.023451 -0.040099 -0.016704  0.004636 -0.017629   \n",
            "400 -0.023677 -0.044642  0.045529  0.090730 -0.018080 -0.035447  0.070730   \n",
            "..        ...       ...       ...       ...       ...       ...       ...   \n",
            "328 -0.038207 -0.044642  0.067085 -0.060757 -0.029088 -0.023234 -0.010266   \n",
            "414  0.081666  0.050680  0.006728 -0.004523  0.109883  0.117056 -0.032356   \n",
            "421  0.038076  0.050680  0.016428  0.021872  0.039710  0.045032 -0.043401   \n",
            "361  0.041708 -0.044642 -0.007284  0.028758 -0.042848 -0.048286  0.052322   \n",
            "415 -0.005515 -0.044642  0.008883 -0.050428  0.025950  0.047224 -0.043401   \n",
            "\n",
            "           s4        s5        s6  label  \n",
            "362 -0.002592  0.003712  0.040343      1  \n",
            "249  0.034309  0.070211  0.007207      1  \n",
            "271 -0.002592 -0.018118  0.007207      0  \n",
            "435 -0.002592 -0.038459 -0.038357      0  \n",
            "400 -0.039493 -0.034524 -0.009362      1  \n",
            "..        ...       ...       ...    ...  \n",
            "328 -0.002592 -0.001499  0.019633      0  \n",
            "414  0.091875  0.054724  0.007207      0  \n",
            "421  0.071210  0.049769  0.015491      1  \n",
            "361 -0.076395 -0.072128  0.023775      1  \n",
            "415  0.071210  0.014823  0.003064      1  \n",
            "\n",
            "[133 rows x 11 columns]\n"
          ]
        }
      ]
    },
    {
      "cell_type": "markdown",
      "metadata": {
        "id": "U_jNtkfce9Eg"
      },
      "source": [
        "### Effect of Standardization (Visual)\n",
        "Use `seaborn.lmplot` ([help here](https://seaborn.pydata.org/generated/seaborn.lmplot.html)) to visualize a few features of the training set. Draw a plot where the x-axis is ``age``, the y-axis is ``bmi,`` and the color of each datapoint indicates its class.  **[0.5]**\n",
        "\n",
        "Standardizing the data is often critical in machine learning. Show a plot as above, but standardize the two features. What's different? **why do they look similar?** Based on your observation, what is the advantage of standardization? **[0.6]**\n",
        "\n",
        "\n",
        "Ans:\n",
        "The values of x and y axis are different. The variances of the two features are also different. They look similar because the original dataset (diabetes dataset) has already been standardized. The advantage of standardization is to make sure that all the features contribute equally to the model optimization and fitting. By setting the mean to 0 and variance to 1, we can avoid features with larger scale dominating the optimization process."
      ]
    },
    {
      "cell_type": "code",
      "metadata": {
        "id": "J684emSV8mJd",
        "colab": {
          "base_uri": "https://localhost:8080/",
          "height": 792
        },
        "outputId": "10bd3569-37cf-45ee-dbd8-5e660e05d0fb"
      },
      "source": [
        "### YOUR CODE HERE ###\n",
        "import seaborn as sns\n",
        "plot_before_standardize = sns.lmplot(data = df,x=\"age\", y='bmi',hue='label')\n",
        "\n",
        "df_standardized = df.copy() # create a copy of df\n",
        "#standardize features 'age' and 'bmi'\n",
        "df_standardized['age'] =(df_standardized['age'] - df_standardized['age'].mean()) / df_standardized['age'].std()\n",
        "df_standardized['bmi'] =(df_standardized['bmi'] - df_standardized['bmi'].mean()) / df_standardized['bmi'].std()\n",
        "\n",
        "#replot with standardized features\n",
        "plot_after_standardize = sns.lmplot(data = df_standardized,x=\"age\", y='bmi',hue='label')\n",
        "\n",
        "# check if the original dataset features (bmi and age) has already been standardized\n",
        "print(df['age'].mean(), df['age'].std())\n",
        "print(df['bmi'].mean(), df['bmi'].std())\n",
        "\n",
        "#check if we have succesfully standardized the two features\n",
        "print(df_standardized['age'].mean(), df_standardized['age'].std())\n",
        "print(df_standardized['bmi'].mean(), df_standardized['bmi'].std())\n",
        "\n"
      ],
      "execution_count": 5,
      "outputs": [
        {
          "output_type": "stream",
          "name": "stdout",
          "text": [
            "-3.6396225400041895e-16 0.04761904761904939\n",
            "-8.013951493363262e-16 0.04761904761905211\n",
            "-1.607562750588462e-17 1.0\n",
            "-3.6170161888240395e-17 0.9999999999999999\n"
          ]
        },
        {
          "output_type": "display_data",
          "data": {
            "text/plain": [
              "<Figure size 402.375x360 with 1 Axes>"
            ],
            "image/png": "[encoded data removed]"
          },
          "metadata": {
            "needs_background": "light"
          }
        },
        {
          "output_type": "display_data",
          "data": {
            "text/plain": [
              "<Figure size 402.375x360 with 1 Axes>"
            ],
            "image/png": "[encoded data removed]"
          },
          "metadata": {
            "needs_background": "light"
          }
        }
      ]
    },
    {
      "cell_type": "markdown",
      "metadata": {
        "id": "aBmo0-W1yZFs"
      },
      "source": [
        "## Part 2: KNN Classifier without Standardization [2 Marks]\n",
        "Normally, standardizing data is a key step in preparing data for a KNN classifier. However, for educational purposes, let's first try to build a model without standardization. Let's create a KNN classifier to predict whether a patient has a diabetes severity that is less than the median or greater than the median. \n",
        "\n",
        "Follow these steps: \n",
        "\n",
        "1.   Train a KNN Classifier using cross-validation on the dataset. Sweep `k` (number of neighbours) from 1 to 100, and show a plot of the mean cross-validation accuracy vs `k`. **[1]**\n",
        "2.   What is the best `k`? What is the highest cross-validation accuracy? **[0.5]**\n",
        "3. Comment on  which ranges of `k` lead to underfitted or overfitted models (hint: compare training and validation curves!). **[0.5]**\n",
        "\n",
        "Ans:\n",
        "1. Please see the graph below.\n",
        "2. The best k = 15, highest cross-validation acucuracy = 0.7542570068746695\n",
        "3. Overfit happens when k is too small, in this case, we can see that the training accuracy is very high but the validation accuracy is low. Underfit happens when k is too large, in this case, both training accuracy and validation accuracy is low. We can find the range for overfitting by observing if there is a large gap between train and validation accuracy with a higher training accuracy and the range for underfitting by observing when both the training and validation accuracy are low.\n",
        "Therefore by observing the training and validation curves, approximately when k is [1,10], the model is overfitted and when k is [45,100], the model is underfitted.\n"
      ]
    },
    {
      "cell_type": "code",
      "metadata": {
        "id": "cyEV-mVSAMaV",
        "colab": {
          "base_uri": "https://localhost:8080/"
        },
        "outputId": "d77810e3-6fb1-46b2-a7e6-396a547eaeb5"
      },
      "source": [
        "### YOUR CODE HERE ###\n",
        "from sklearn.model_selection import cross_validate\n",
        "from sklearn import neighbors\n",
        "\n",
        "k_values = []\n",
        "train_accuracy = []\n",
        "valid_accuracy = []\n",
        "for i in range (1,101):\n",
        "  k_values.append(i)\n",
        "# create knn and fit the data\n",
        "for k in k_values:\n",
        "  knn = neighbors.KNeighborsClassifier(n_neighbors=k)\n",
        "  scores = cross_validate(knn, x_train, y_train, cv=5, return_train_score=True)\n",
        "  train_accuracy.append(scores['train_score'].mean())\n",
        "  valid_accuracy.append(scores['test_score'].mean())\n",
        "\n",
        "# find the best cross-validation accuracy and its corresponding k\n",
        "best_valid_accu = max(valid_accuracy)\n",
        "best_k = valid_accuracy.index(best_valid_accu) + 1 # since k = index + 1\n",
        "print(f\"When k = {best_k}, the highest cross-validation accuracy is {best_valid_accu}\")"
      ],
      "execution_count": 6,
      "outputs": [
        {
          "output_type": "stream",
          "name": "stdout",
          "text": [
            "When k = 15, the highest cross-validation accuracy is 0.7542570068746695\n"
          ]
        }
      ]
    },
    {
      "cell_type": "code",
      "source": [
        "#plot mean cross-validation accuracy vs k\n",
        "import matplotlib.pyplot as plt\n",
        "\n",
        "plt.plot(k_values, valid_accuracy, color = 'green')\n",
        "plt.xlabel(\"k\")\n",
        "plt.ylabel('Cross-validation Accuracy')\n"
      ],
      "metadata": {
        "colab": {
          "base_uri": "https://localhost:8080/",
          "height": 299
        },
        "id": "yOt1HXI_SjhW",
        "outputId": "565195cc-0685-483d-899f-97b18286bfa8"
      },
      "execution_count": 7,
      "outputs": [
        {
          "output_type": "execute_result",
          "data": {
            "text/plain": [
              "Text(0, 0.5, 'Cross-validation Accuracy')"
            ]
          },
          "metadata": {},
          "execution_count": 7
        },
        {
          "output_type": "display_data",
          "data": {
            "text/plain": [
              "<Figure size 432x288 with 1 Axes>"
            ],
            "image/png": "[encoded data removed]"
          },
          "metadata": {
            "needs_background": "light"
          }
        }
      ]
    },
    {
      "cell_type": "code",
      "source": [
        "#find the range for overfit\n",
        "plt.plot(k_values[0:20], train_accuracy[0:20], color = 'blue',label = 'train_accu')\n",
        "plt.plot(k_values[0:20], valid_accuracy[0:20], color = 'green',label = 'valid_accu')\n",
        "plt.xlabel('k')\n",
        "plt.ylabel('Accuracy')\n",
        "plt.legend()\n",
        "plt.show()"
      ],
      "metadata": {
        "colab": {
          "base_uri": "https://localhost:8080/",
          "height": 279
        },
        "id": "EMO3IXHzUFJq",
        "outputId": "944c1955-1a25-4852-fa14-5e1c1faa7bd5"
      },
      "execution_count": 8,
      "outputs": [
        {
          "output_type": "display_data",
          "data": {
            "text/plain": [
              "<Figure size 432x288 with 1 Axes>"
            ],
            "image/png": "[encoded data removed]"
          },
          "metadata": {
            "needs_background": "light"
          }
        }
      ]
    },
    {
      "cell_type": "code",
      "source": [
        "#find the range for underfit\n",
        "plt.plot(k_values[20:70], train_accuracy[20:70], color = 'blue',label = 'train_accu')\n",
        "plt.plot(k_values[20:70], valid_accuracy[20:70], color = 'green',label = 'valid_accu')\n",
        "plt.xlabel('k')\n",
        "plt.ylabel('Accuracy')\n",
        "plt.legend()\n",
        "plt.show()"
      ],
      "metadata": {
        "colab": {
          "base_uri": "https://localhost:8080/",
          "height": 279
        },
        "id": "3eyeMKG9hL89",
        "outputId": "1a5fb38d-73ca-40c7-e07d-2293a70b6e5a"
      },
      "execution_count": 9,
      "outputs": [
        {
          "output_type": "display_data",
          "data": {
            "text/plain": [
              "<Figure size 432x288 with 1 Axes>"
            ],
            "image/png": "[encoded data removed]"
          },
          "metadata": {
            "needs_background": "light"
          }
        }
      ]
    },
    {
      "cell_type": "code",
      "source": [
        "#plot both train and valid accuracy curve\n",
        "plt.plot(k_values, train_accuracy, color = 'blue',label = 'train_accu')\n",
        "plt.plot(k_values, valid_accuracy, color = 'green',label = 'valid_accu')\n",
        "plt.xlabel('k')\n",
        "plt.ylabel('Accuracy')\n",
        "plt.legend()\n",
        "plt.show()"
      ],
      "metadata": {
        "colab": {
          "base_uri": "https://localhost:8080/",
          "height": 279
        },
        "id": "hvEES5Qx5I1P",
        "outputId": "83c849f6-d04f-49bd-b1f5-d951df47116c"
      },
      "execution_count": 10,
      "outputs": [
        {
          "output_type": "display_data",
          "data": {
            "text/plain": [
              "<Figure size 432x288 with 1 Axes>"
            ],
            "image/png": "[encoded data removed]"
          },
          "metadata": {
            "needs_background": "light"
          }
        }
      ]
    },
    {
      "cell_type": "markdown",
      "metadata": {
        "id": "VCyFm5S3srCO"
      },
      "source": [
        "## Part 3: Feature Selection [3 Marks]\n",
        "In this part, we aim to investigate the importance of each feature on the final classification accuracy. \n",
        "If we want to try every possible combination of features, we would have to test  $2^F$ different cases,  where F is the number of features, and in each case, we have to do a hyperparameter search (finding K, in KNN using cross-validation). That will take days!. \n",
        "\n",
        "To find more important features we will use a decision tree. based on a decision tree we can compute feature importance that is a metric for our feature selection (code is provided below).\n",
        "\n",
        "You can use [this link](https://machinelearningmastery.com/calculate-feature-importance-with-python/\n",
        ") to get familiar with extracting the feature impotance order of machine learning algorithms in Python.\n",
        "\n",
        "After we identified and removed the least important feature and evaluated a new KNN model on the new set of features, if the stop conditions (see step 7 below) are not met, we need to repeat the process and remove another feature.\n",
        "\n",
        "\n",
        "Design a function ( `Feature_selector`) that accepts your dataset (X_train , y_train) and a threshold as inputs and: **[1]**\n",
        "1. Fits a decision tree classifier on the training set.\n",
        "\n",
        "2. Extracts the feature importance order of the decision tree model.\n",
        "\n",
        "3. Removes the least important feature based on step 2. \n",
        "4. Then, a KNN model is trained on the remaining features. The number of neighbors (`k`) for each KNN model should be tuned using a 5-fold cross-validation.\n",
        "5. Store the best `mean cross-validation` score and the corresponding `k` (number of neighbours) value in two lists.\n",
        "6. Go back to step 3 and follow all the steps until you meet the stop condition (step 7). \n",
        " \n",
        "7. We will stop this process when (1) there is only one feature left, or (2) our cross-validation accuracy is dropped significantly compared to a model that uses all the features. In this function, we accept a threshold as an input argument. For example, if threshold=0.95 we do not continue removing features if our mean cross-validation accuracy after tuning `k` is bellow **0.95 $\\times$ Full Feature cross-validation accuracy**.\n",
        "\n",
        "8. Your function returns the list of removed features, and the corresponding mean cross-validation accuracy and `k` value when a feature was removed.\n",
        "\n",
        "* Visualize your results by plotting the mean cross-validation accuracy (with a tuned `k` on y axis) vs. the on the number of features (x axis). This plot describes: what is the best cv score with 1 feature, 2 features, 3 features ... and all the features. **[0.5]**\n",
        "\n",
        "* Plot the best value of `k` (y-axis) vs. the number of features. This plot explains the trend of number of neighbours with respect to the number of features.  **[0.5]**\n",
        "\n",
        "* State what is the number of essential features for classification and justify your answer. **[1]**\n",
        "  \n",
        "Ans:\n",
        "The number of essential features for classification is 1 since the function reaches the stopping criteria after removing the other 9 features. Since the validation accuracy does not drop to bellow 0.95  ×  Full Feature cross-validation accuracy during the removing process, we can say that the final left 1 feature is essential for classification.\n",
        "\n",
        "\n",
        "\n",
        "\n",
        "\n",
        "\n",
        " "
      ]
    },
    {
      "cell_type": "markdown",
      "metadata": {
        "id": "LPcG6_UIdAaT"
      },
      "source": [
        "You can use the following piece of code to start training a decision tree classifier and obtain its feature importance order. \n",
        "```\n",
        "from sklearn import tree\n",
        "dt = tree.DecisionTreeClassifier()\n",
        "dt.fit(X_train,y_train)\n",
        "importance = dt.feature_importances_\n",
        "```\n"
      ]
    },
    {
      "cell_type": "code",
      "metadata": {
        "id": "oiFUWWnE0QVc"
      },
      "source": [
        "from sklearn import tree\n",
        "import numpy\n",
        "\n",
        "def feature_remover(x_train, importance):\n",
        "  feature_index = importance.index(min(importance)) # find the index of the lease significant feature\n",
        "  feature_name = x_train.columns[feature_index] # get feature name\n",
        "  x_train = x_train.drop(columns=[feature_name]) #update the training set\n",
        "  importance.remove(min(importance)) #update importance \n",
        "  return x_train, feature_name, importance\n",
        "\n",
        "\n",
        "def run_knn(x_train, y_train):\n",
        "\n",
        "  k_values = []\n",
        "  train_accuracy = []\n",
        "  valid_accuracy = []\n",
        "  for i in range (1,101):\n",
        "    k_values.append(i)\n",
        "# create knn and fit the data\n",
        "  for k in k_values:\n",
        "    knn = neighbors.KNeighborsClassifier(n_neighbors=k)\n",
        "    scores = cross_validate(knn, x_train, y_train, cv=5, return_train_score=True)\n",
        "    train_accuracy.append(scores['train_score'].mean())\n",
        "    valid_accuracy.append(scores['test_score'].mean())\n",
        "\n",
        "# find the best cross-validation accuracy and its corresponding k\n",
        "  best_valid_accu = max(valid_accuracy)\n",
        "  best_k = valid_accuracy.index(best_valid_accu) + 1 # since k = index + 1\n",
        "  return best_k, best_valid_accu\n",
        "\n",
        "\n",
        "\n",
        "def Feature_selector (X_train , y_train , tr=0.95):\n",
        "### YOUR CODE HERE ###\n",
        "  x_train = X_train.copy() # take a copy of original dataset, so that we won't modify it\n",
        "  current_feature_num = len(x_train.columns)\n",
        "  valid_accu_fullfeature = run_knn(x_train, y_train)[1]\n",
        "  current_valid_accu = valid_accu_fullfeature\n",
        "\n",
        "  removed_features = []\n",
        "  removed_ks = []\n",
        "  removed_valid_accu = []\n",
        "# fit training set on decision tree\n",
        "  dt = tree.DecisionTreeClassifier(random_state = 0)\n",
        "  dt.fit(x_train,y_train)\n",
        "  importance = dt.feature_importances_\n",
        "  importance = list(importance)\n",
        "# start the feature selection loop\n",
        "  while (current_feature_num > 1 and current_valid_accu >= tr * valid_accu_fullfeature ):\n",
        "    x_train,removed_feature,importance = feature_remover(x_train, importance) # remove a feature\n",
        "    current_best_k, current_valid_accu = run_knn(x_train,y_train) #call knn\n",
        "    current_feature_num -= 1\n",
        "    removed_features.append(removed_feature)\n",
        "    removed_ks.append(current_best_k)\n",
        "    removed_valid_accu.append(current_valid_accu)\n",
        "    print(f\"Removed feature :{removed_feature}\")\n",
        "  return removed_features, removed_ks, removed_valid_accu, valid_accu_fullfeature"
      ],
      "execution_count": 11,
      "outputs": []
    },
    {
      "cell_type": "code",
      "source": [
        "# call Feature_selector function and visualize the results\n",
        "removed_features, removed_ks, removed_valid_accu, valid_accu_full = Feature_selector(x_train, y_train,0.95)\n",
        "num_removed = len(removed_features)\n",
        "feature_num = []\n",
        "num_feature_remain = 9\n",
        "for i in range (num_removed):\n",
        "  feature_num.append(num_feature_remain)\n",
        "  num_feature_remain -= 1\n",
        "\n"
      ],
      "metadata": {
        "colab": {
          "base_uri": "https://localhost:8080/"
        },
        "id": "IFnIhjgREtO4",
        "outputId": "23144c05-6920-4fac-f425-5a29747c3a59"
      },
      "execution_count": 12,
      "outputs": [
        {
          "output_type": "stream",
          "name": "stdout",
          "text": [
            "Removed feature :s4\n",
            "Removed feature :sex\n",
            "Removed feature :s1\n",
            "Removed feature :s6\n",
            "Removed feature :bp\n",
            "Removed feature :age\n",
            "Removed feature :s3\n",
            "Removed feature :bmi\n",
            "Removed feature :s2\n"
          ]
        }
      ]
    },
    {
      "cell_type": "code",
      "source": [
        "print(removed_features)\n",
        "print(removed_ks)\n",
        "print(removed_valid_accu)\n",
        "print(feature_num)\n",
        "#insert the case of full feature\n",
        "feature_num.insert(0,10)\n",
        "removed_valid_accu.insert(0,valid_accu_full)\n",
        "removed_ks.insert(0,15)\n",
        "# plot mean cross-validation accuracy  vs the number of features\n",
        "plt.plot(feature_num, removed_valid_accu, color = 'blue')\n",
        "plt.xlabel('number of features')\n",
        "plt.ylabel('Validation Accuracy')\n",
        "plt.show()"
      ],
      "metadata": {
        "colab": {
          "base_uri": "https://localhost:8080/",
          "height": 370
        },
        "id": "6JqS2G-iYYB1",
        "outputId": "3ad63d1d-9c59-43ba-f04c-9188ad3afc77"
      },
      "execution_count": 13,
      "outputs": [
        {
          "output_type": "stream",
          "name": "stdout",
          "text": [
            "['s4', 'sex', 's1', 's6', 'bp', 'age', 's3', 'bmi', 's2']\n",
            "[25, 91, 99, 73, 7, 19, 60, 82, 85]\n",
            "[0.7671602326811211, 0.7539925965097833, 0.7540983606557378, 0.7574299312533052, 0.7540454785827604, 0.7637757800105763, 0.7540983606557378, 0.7248545742993127, 0.7248016922263353]\n",
            "[9, 8, 7, 6, 5, 4, 3, 2, 1]\n"
          ]
        },
        {
          "output_type": "display_data",
          "data": {
            "text/plain": [
              "<Figure size 432x288 with 1 Axes>"
            ],
            "image/png": "[encoded data removed]"
          },
          "metadata": {
            "needs_background": "light"
          }
        }
      ]
    },
    {
      "cell_type": "code",
      "source": [
        "# plot best ks  vs the number of features\n",
        "plt.plot(feature_num, removed_ks, color = 'blue')\n",
        "plt.xlabel('number of features')\n",
        "plt.ylabel('best k')\n",
        "plt.show()"
      ],
      "metadata": {
        "colab": {
          "base_uri": "https://localhost:8080/",
          "height": 279
        },
        "id": "iVB9psqMocsU",
        "outputId": "d0c1404d-48ab-4736-e408-0fa0cb88d296"
      },
      "execution_count": 14,
      "outputs": [
        {
          "output_type": "display_data",
          "data": {
            "text/plain": [
              "<Figure size 432x288 with 1 Axes>"
            ],
            "image/png": "[encoded data removed]"
          },
          "metadata": {
            "needs_background": "light"
          }
        }
      ]
    },
    {
      "cell_type": "markdown",
      "metadata": {
        "id": "GTXjb1sWmDZL"
      },
      "source": [
        "## Part 4: Standardization [1 Marks]\n",
        "\n",
        "Standardizing the data usually means scaling our data to have a mean of zero and a standard deviation of one. \n",
        "\n",
        "**Note:** When we standardize a dataset, do we care if the data points are in our training set or test set? Yes! The training set is available for us to train a model - we can use it however we want. The test set, however, represents a subset of data that is not available for us during training. For example, the test set can represent the data that someone who bought our model would use to see how the model performs (which they are not willing to share with us).\n",
        "Therefore, we cannot compute the mean or standard deviation of the whole dataset to standardize it - we can only calculate the mean and standard deviation of the training set. However, when we sell a model to someone, we can say what our scalers (mean and standard deviation of our training set) was. They can scale their data (test set) with our training set's mean and standard deviation. Of course, there is no guarantee that the test set would have a mean of zero and a standard deviation of one, but it should work fine.\n",
        "\n",
        "**To summarize: We fit the StandardScaler only on the training set. We transform both training and test sets with that scaler.**\n",
        "\n",
        "1. Standardize the training  and test data ([Help](https://scikit-learn.org/stable/modules/preprocessing.html)) \n",
        "\n",
        "2. Call your ``Feature_selector`` function on the standardized training data with a threshold of 95\\%. \n",
        " * Plot the Cross validation accuracy when we have the standardized data (this part) and the original training data (last part) vs. the Number of features in a single plot (to compare them easily).\n",
        "\n",
        "3. Discuss how standardization affected your model and its performance? \n",
        "\n",
        "Ans: We can see that in this case, standardizing data does not affect the validation accuracy much and the two curves basically overlap each other. When k = 6, standardizing data allows us to get a higher validation accuracy but when k=9 and 4, using the original data gives us a higher accuracy. This is because the original dataset is already standardized but with a different method (mean = 0 but std != 1)."
      ]
    },
    {
      "cell_type": "code",
      "metadata": {
        "id": "xAwAGR6_2bu3",
        "colab": {
          "base_uri": "https://localhost:8080/",
          "height": 459
        },
        "outputId": "03cf0699-25a9-47a2-9247-a74b259203d9"
      },
      "source": [
        "### YOUR CODE HERE ###\n",
        "from sklearn import preprocessing\n",
        "import numpy as np\n",
        "# fit on training set\n",
        "scaler = preprocessing.StandardScaler().fit(x_train)\n",
        "# perform on both train and test set\n",
        "x_train_sd = scaler.transform(x_train)\n",
        "x_test_sd = scaler.transform(x_test)\n",
        "# convert back to dataframe\n",
        "x_train_sd = pd.DataFrame(data = x_train_sd, columns=dataset.feature_names)\n",
        "x_test_sd = pd.DataFrame(data = x_test_sd, columns=dataset.feature_names)\n",
        "#check\n",
        "print(f\"Mean after standardization: {x_train_sd['sex'].mean()}\")\n",
        "print(f\"Std after standardization: {x_train_sd['sex'].std()}\")\n",
        "x_train_sd"
      ],
      "execution_count": 15,
      "outputs": [
        {
          "output_type": "stream",
          "name": "stdout",
          "text": [
            "Mean after standardization: 8.048218689839323e-17\n",
            "Std after standardization: 1.0016220610822995\n"
          ]
        },
        {
          "output_type": "execute_result",
          "data": {
            "text/plain": [
              "          age       sex       bmi        bp        s1        s2        s3  \\\n",
              "0    0.276030  1.042995  0.032288 -0.237005  0.842213  1.212746 -0.834371   \n",
              "1   -0.551330 -0.958778 -1.351539 -2.355554 -1.045506 -0.860014  0.005560   \n",
              "2    0.125601 -0.958778  1.259876 -1.175907  0.522753  1.120624 -0.910729   \n",
              "3    0.652103  1.042995  1.192917  1.616726  1.045506 -0.248056 -0.758014   \n",
              "4    0.200816 -0.958778 -0.481067 -0.549972  2.091012  1.989209  1.456350   \n",
              "..        ...       ...       ...       ...       ...       ...       ...   \n",
              "304  1.479464  1.042995 -0.123951  1.038940  1.277841 -0.083551 -1.139801   \n",
              "305  1.178605  1.042995 -0.614986  0.172261  0.406586  0.456024  0.692777   \n",
              "306  1.253820 -0.958778 -0.414108  1.833396  0.958381  0.673171 -0.987086   \n",
              "307 -1.604334 -0.958778 -1.485458 -1.199982 -1.771552 -1.550934 -0.528942   \n",
              "308  0.877747  1.042995  1.505394  0.172261  0.813171  0.344161 -0.376227   \n",
              "\n",
              "           s4        s5        s6  \n",
              "0    1.140402  0.507152  0.643505  \n",
              "1   -0.813684 -0.712343 -0.168099  \n",
              "2    1.034776 -0.068738 -0.573902  \n",
              "3    1.449736  2.462620  1.779752  \n",
              "4   -0.059210 -0.418556  0.156543  \n",
              "..        ...       ...       ...  \n",
              "304  2.204210  2.645252  1.130468  \n",
              "305 -0.813684 -0.584239 -1.142025  \n",
              "306  1.449736  1.628858  2.672517  \n",
              "307 -0.813684 -0.351838 -1.628988  \n",
              "308  0.695263  1.512529  1.698591  \n",
              "\n",
              "[309 rows x 10 columns]"
            ],
            "text/html": [
              "\n",
              "  <div id=\"df-83deccf3-7d0c-4c0d-8c9d-d9f40071a18f\">\n",
              "    <div class=\"colab-df-container\">\n",
              "      <div>\n",
              "<style scoped>\n",
              "    .dataframe tbody tr th:only-of-type {\n",
              "        vertical-align: middle;\n",
              "    }\n",
              "\n",
              "    .dataframe tbody tr th {\n",
              "        vertical-align: top;\n",
              "    }\n",
              "\n",
              "    .dataframe thead th {\n",
              "        text-align: right;\n",
              "    }\n",
              "</style>\n",
              "<table border=\"1\" class=\"dataframe\">\n",
              "  <thead>\n",
              "    <tr style=\"text-align: right;\">\n",
              "      <th></th>\n",
              "      <th>age</th>\n",
              "      <th>sex</th>\n",
              "      <th>bmi</th>\n",
              "      <th>bp</th>\n",
              "      <th>s1</th>\n",
              "      <th>s2</th>\n",
              "      <th>s3</th>\n",
              "      <th>s4</th>\n",
              "      <th>s5</th>\n",
              "      <th>s6</th>\n",
              "    </tr>\n",
              "  </thead>\n",
              "  <tbody>\n",
              "    <tr>\n",
              "      <th>0</th>\n",
              "      <td>0.276030</td>\n",
              "      <td>1.042995</td>\n",
              "      <td>0.032288</td>\n",
              "      <td>-0.237005</td>\n",
              "      <td>0.842213</td>\n",
              "      <td>1.212746</td>\n",
              "      <td>-0.834371</td>\n",
              "      <td>1.140402</td>\n",
              "      <td>0.507152</td>\n",
              "      <td>0.643505</td>\n",
              "    </tr>\n",
              "    <tr>\n",
              "      <th>1</th>\n",
              "      <td>-0.551330</td>\n",
              "      <td>-0.958778</td>\n",
              "      <td>-1.351539</td>\n",
              "      <td>-2.355554</td>\n",
              "      <td>-1.045506</td>\n",
              "      <td>-0.860014</td>\n",
              "      <td>0.005560</td>\n",
              "      <td>-0.813684</td>\n",
              "      <td>-0.712343</td>\n",
              "      <td>-0.168099</td>\n",
              "    </tr>\n",
              "    <tr>\n",
              "      <th>2</th>\n",
              "      <td>0.125601</td>\n",
              "      <td>-0.958778</td>\n",
              "      <td>1.259876</td>\n",
              "      <td>-1.175907</td>\n",
              "      <td>0.522753</td>\n",
              "      <td>1.120624</td>\n",
              "      <td>-0.910729</td>\n",
              "      <td>1.034776</td>\n",
              "      <td>-0.068738</td>\n",
              "      <td>-0.573902</td>\n",
              "    </tr>\n",
              "    <tr>\n",
              "      <th>3</th>\n",
              "      <td>0.652103</td>\n",
              "      <td>1.042995</td>\n",
              "      <td>1.192917</td>\n",
              "      <td>1.616726</td>\n",
              "      <td>1.045506</td>\n",
              "      <td>-0.248056</td>\n",
              "      <td>-0.758014</td>\n",
              "      <td>1.449736</td>\n",
              "      <td>2.462620</td>\n",
              "      <td>1.779752</td>\n",
              "    </tr>\n",
              "    <tr>\n",
              "      <th>4</th>\n",
              "      <td>0.200816</td>\n",
              "      <td>-0.958778</td>\n",
              "      <td>-0.481067</td>\n",
              "      <td>-0.549972</td>\n",
              "      <td>2.091012</td>\n",
              "      <td>1.989209</td>\n",
              "      <td>1.456350</td>\n",
              "      <td>-0.059210</td>\n",
              "      <td>-0.418556</td>\n",
              "      <td>0.156543</td>\n",
              "    </tr>\n",
              "    <tr>\n",
              "      <th>...</th>\n",
              "      <td>...</td>\n",
              "      <td>...</td>\n",
              "      <td>...</td>\n",
              "      <td>...</td>\n",
              "      <td>...</td>\n",
              "      <td>...</td>\n",
              "      <td>...</td>\n",
              "      <td>...</td>\n",
              "      <td>...</td>\n",
              "      <td>...</td>\n",
              "    </tr>\n",
              "    <tr>\n",
              "      <th>304</th>\n",
              "      <td>1.479464</td>\n",
              "      <td>1.042995</td>\n",
              "      <td>-0.123951</td>\n",
              "      <td>1.038940</td>\n",
              "      <td>1.277841</td>\n",
              "      <td>-0.083551</td>\n",
              "      <td>-1.139801</td>\n",
              "      <td>2.204210</td>\n",
              "      <td>2.645252</td>\n",
              "      <td>1.130468</td>\n",
              "    </tr>\n",
              "    <tr>\n",
              "      <th>305</th>\n",
              "      <td>1.178605</td>\n",
              "      <td>1.042995</td>\n",
              "      <td>-0.614986</td>\n",
              "      <td>0.172261</td>\n",
              "      <td>0.406586</td>\n",
              "      <td>0.456024</td>\n",
              "      <td>0.692777</td>\n",
              "      <td>-0.813684</td>\n",
              "      <td>-0.584239</td>\n",
              "      <td>-1.142025</td>\n",
              "    </tr>\n",
              "    <tr>\n",
              "      <th>306</th>\n",
              "      <td>1.253820</td>\n",
              "      <td>-0.958778</td>\n",
              "      <td>-0.414108</td>\n",
              "      <td>1.833396</td>\n",
              "      <td>0.958381</td>\n",
              "      <td>0.673171</td>\n",
              "      <td>-0.987086</td>\n",
              "      <td>1.449736</td>\n",
              "      <td>1.628858</td>\n",
              "      <td>2.672517</td>\n",
              "    </tr>\n",
              "    <tr>\n",
              "      <th>307</th>\n",
              "      <td>-1.604334</td>\n",
              "      <td>-0.958778</td>\n",
              "      <td>-1.485458</td>\n",
              "      <td>-1.199982</td>\n",
              "      <td>-1.771552</td>\n",
              "      <td>-1.550934</td>\n",
              "      <td>-0.528942</td>\n",
              "      <td>-0.813684</td>\n",
              "      <td>-0.351838</td>\n",
              "      <td>-1.628988</td>\n",
              "    </tr>\n",
              "    <tr>\n",
              "      <th>308</th>\n",
              "      <td>0.877747</td>\n",
              "      <td>1.042995</td>\n",
              "      <td>1.505394</td>\n",
              "      <td>0.172261</td>\n",
              "      <td>0.813171</td>\n",
              "      <td>0.344161</td>\n",
              "      <td>-0.376227</td>\n",
              "      <td>0.695263</td>\n",
              "      <td>1.512529</td>\n",
              "      <td>1.698591</td>\n",
              "    </tr>\n",
              "  </tbody>\n",
              "</table>\n",
              "<p>309 rows × 10 columns</p>\n",
              "</div>\n",
              "      <button class=\"colab-df-convert\" onclick=\"convertToInteractive('df-83deccf3-7d0c-4c0d-8c9d-d9f40071a18f')\"\n",
              "              title=\"Convert this dataframe to an interactive table.\"\n",
              "              style=\"display:none;\">\n",
              "        \n",
              "  <svg xmlns=\"http://www.w3.org/2000/svg\" height=\"24px\"viewBox=\"0 0 24 24\"\n",
              "       width=\"24px\">\n",
              "    <path d=\"M0 0h24v24H0V0z\" fill=\"none\"/>\n",
              "    <path d=\"M18.56 5.44l.94 2.06.94-2.06 2.06-.94-2.06-.94-.94-2.06-.94 2.06-2.06.94zm-11 1L8.5 8.5l.94-2.06 2.06-.94-2.06-.94L8.5 2.5l-.94 2.06-2.06.94zm10 10l.94 2.06.94-2.06 2.06-.94-2.06-.94-.94-2.06-.94 2.06-2.06.94z\"/><path d=\"M17.41 7.96l-1.37-1.37c-.4-.4-.92-.59-1.43-.59-.52 0-1.04.2-1.43.59L10.3 9.45l-7.72 7.72c-.78.78-.78 2.05 0 2.83L4 21.41c.39.39.9.59 1.41.59.51 0 1.02-.2 1.41-.59l7.78-7.78 2.81-2.81c.8-.78.8-2.07 0-2.86zM5.41 20L4 18.59l7.72-7.72 1.47 1.35L5.41 20z\"/>\n",
              "  </svg>\n",
              "      </button>\n",
              "      \n",
              "  <style>\n",
              "    .colab-df-container {\n",
              "      display:flex;\n",
              "      flex-wrap:wrap;\n",
              "      gap: 12px;\n",
              "    }\n",
              "\n",
              "    .colab-df-convert {\n",
              "      background-color: #E8F0FE;\n",
              "      border: none;\n",
              "      border-radius: 50%;\n",
              "      cursor: pointer;\n",
              "      display: none;\n",
              "      fill: #1967D2;\n",
              "      height: 32px;\n",
              "      padding: 0 0 0 0;\n",
              "      width: 32px;\n",
              "    }\n",
              "\n",
              "    .colab-df-convert:hover {\n",
              "      background-color: #E2EBFA;\n",
              "      box-shadow: 0px 1px 2px rgba(60, 64, 67, 0.3), 0px 1px 3px 1px rgba(60, 64, 67, 0.15);\n",
              "      fill: #174EA6;\n",
              "    }\n",
              "\n",
              "    [theme=dark] .colab-df-convert {\n",
              "      background-color: #3B4455;\n",
              "      fill: #D2E3FC;\n",
              "    }\n",
              "\n",
              "    [theme=dark] .colab-df-convert:hover {\n",
              "      background-color: #434B5C;\n",
              "      box-shadow: 0px 1px 3px 1px rgba(0, 0, 0, 0.15);\n",
              "      filter: drop-shadow(0px 1px 2px rgba(0, 0, 0, 0.3));\n",
              "      fill: #FFFFFF;\n",
              "    }\n",
              "  </style>\n",
              "\n",
              "      <script>\n",
              "        const buttonEl =\n",
              "          document.querySelector('#df-83deccf3-7d0c-4c0d-8c9d-d9f40071a18f button.colab-df-convert');\n",
              "        buttonEl.style.display =\n",
              "          google.colab.kernel.accessAllowed ? 'block' : 'none';\n",
              "\n",
              "        async function convertToInteractive(key) {\n",
              "          const element = document.querySelector('#df-83deccf3-7d0c-4c0d-8c9d-d9f40071a18f');\n",
              "          const dataTable =\n",
              "            await google.colab.kernel.invokeFunction('convertToInteractive',\n",
              "                                                     [key], {});\n",
              "          if (!dataTable) return;\n",
              "\n",
              "          const docLinkHtml = 'Like what you see? Visit the ' +\n",
              "            '<a target=\"_blank\" href=https://colab.research.google.com/notebooks/data_table.ipynb>data table notebook</a>'\n",
              "            + ' to learn more about interactive tables.';\n",
              "          element.innerHTML = '';\n",
              "          dataTable['output_type'] = 'display_data';\n",
              "          await google.colab.output.renderOutput(dataTable, element);\n",
              "          const docLink = document.createElement('div');\n",
              "          docLink.innerHTML = docLinkHtml;\n",
              "          element.appendChild(docLink);\n",
              "        }\n",
              "      </script>\n",
              "    </div>\n",
              "  </div>\n",
              "  "
            ]
          },
          "metadata": {},
          "execution_count": 15
        }
      ]
    },
    {
      "cell_type": "code",
      "source": [
        "\n",
        "# call Feature_selector function \n",
        "removed_features_sd, removed_ks_sd, removed_valid_accu_sd, valid_accu_full_sd = Feature_selector(x_train_sd, y_train,0.95)\n",
        "num_removed_sd = len(removed_features_sd)\n",
        "feature_num_sd = []\n",
        "num_feature_remain = 9\n",
        "for i in range (num_removed_sd):\n",
        "  feature_num_sd.append(num_feature_remain)\n",
        "  num_feature_remain -= 1\n",
        "#insert the case of full feature\n",
        "feature_num_sd.insert(0,10)\n",
        "removed_valid_accu_sd.insert(0,valid_accu_full_sd)\n",
        "print(removed_valid_accu_sd)\n",
        "print(feature_num_sd)"
      ],
      "metadata": {
        "colab": {
          "base_uri": "https://localhost:8080/"
        },
        "id": "yN7DRW7Cx245",
        "outputId": "0d5209c3-727a-4d9c-dac5-3f5b695e724f"
      },
      "execution_count": 16,
      "outputs": [
        {
          "output_type": "stream",
          "name": "stdout",
          "text": [
            "Removed feature :s4\n",
            "Removed feature :sex\n",
            "Removed feature :s1\n",
            "Removed feature :s6\n",
            "Removed feature :bp\n",
            "Removed feature :age\n",
            "Removed feature :s3\n",
            "Removed feature :bmi\n",
            "Removed feature :s2\n",
            "[0.754151242728715, 0.7638286620835537, 0.7539925965097832, 0.7573241671073507, 0.7638286620835537, 0.7540454785827604, 0.7605499735589636, 0.7540983606557378, 0.7281332628239026, 0.7248016922263353]\n",
            "[10, 9, 8, 7, 6, 5, 4, 3, 2, 1]\n"
          ]
        }
      ]
    },
    {
      "cell_type": "code",
      "source": [
        "\n",
        "# plot mean cross-validation accuracy  vs the number of features\n",
        "plt.plot(feature_num_sd, removed_valid_accu_sd, color = 'red',label = 'standardized')\n",
        "plt.plot(feature_num, removed_valid_accu, color = 'blue',label = 'not standardized')\n",
        "plt.xlabel('number of features')\n",
        "plt.ylabel('Accuracy')\n",
        "plt.legend()\n",
        "plt.show()\n",
        "\n"
      ],
      "metadata": {
        "colab": {
          "base_uri": "https://localhost:8080/",
          "height": 279
        },
        "id": "ZIxhUzSJ2kWQ",
        "outputId": "9df39b33-bbc1-489f-a735-b3e1a241f8f7"
      },
      "execution_count": 17,
      "outputs": [
        {
          "output_type": "display_data",
          "data": {
            "text/plain": [
              "<Figure size 432x288 with 1 Axes>"
            ],
            "image/png": "[encoded data removed]"
          },
          "metadata": {
            "needs_background": "light"
          }
        }
      ]
    },
    {
      "cell_type": "markdown",
      "source": [
        "## Part 5: Decision Tree Classifier [1 Mark]\n",
        "\n",
        "Train a decision tree classifier on the standardized dataset (read the [documentation](https://scikit-learn.org/stable/modules/generated/sklearn.tree.DecisionTreeClassifier.html) and check the example there.) Tune the `max_depth` and `min_samples_split` parameters of the tree using cross-validation (CV).\n",
        " * Compare the decision tree's performance (mean CV score) with KNN, both using all the features. \n",
        "\n",
        "Ans: The decision tree has a validation score of 0.7313061872025385, which is lower than KNN with a score of 0.754151242728715"
      ],
      "metadata": {
        "id": "HdmuHF4kGH5M"
      }
    },
    {
      "cell_type": "code",
      "source": [
        "### YOUR CODE HERE ###\n",
        "from sklearn.model_selection import GridSearchCV\n",
        "from sklearn.tree import DecisionTreeClassifier\n",
        "parameters = {'max_depth':[2,3,4,5,6,7,8], 'min_samples_split': [2,3,4,5,6,7,8]}\n",
        "dt = DecisionTreeClassifier()\n",
        "clf = GridSearchCV(dt, parameters, cv=5)\n",
        "clf.fit(x_train_sd, y_train) # train on standardized dataset\n",
        "print(f\"The best parameters are :{clf.best_params_}\")\n",
        "print(f\"The validation score: {clf.best_score_}\")\n"
      ],
      "metadata": {
        "colab": {
          "base_uri": "https://localhost:8080/"
        },
        "id": "-7Z00eAPln-W",
        "outputId": "1b81643e-569b-45f7-a35e-ee8eec12fbca"
      },
      "execution_count": 18,
      "outputs": [
        {
          "output_type": "stream",
          "name": "stdout",
          "text": [
            "The best parameters are :{'max_depth': 2, 'min_samples_split': 2}\n",
            "The validation score: 0.7313061872025385\n"
          ]
        }
      ]
    },
    {
      "cell_type": "markdown",
      "metadata": {
        "id": "k7QjKjHn2TZR"
      },
      "source": [
        "## Part 6: Test Data [0.5 Mark]\n",
        "\n",
        "Now that you've created several models, pick your best one (highest CV accuracy) and apply it to the test dataset you had initially set aside. Discuss your results.\n",
        "\n",
        "Ans: The best one is KNN trained on original(unstandardized) training data with 9 features. Below we implement it and run test set. We see that the model is able to arrive at a validation accuracy of 76.72% and a test accuracy of 79.7%. We also compare it with a KNN trained on standardized data with the same 9 features. We see that the model arrives at a validation accuracy of 76.38% and a test accuracy of 76.69%. This is within our expectation since the original dataset is already standardized."
      ]
    },
    {
      "cell_type": "code",
      "source": [
        "### YOUR CODE HERE ###\n",
        "#KNN trained with unstandardized data, 9 features\n",
        "from sklearn.metrics import accuracy_score\n",
        "x_train = x_train.drop(columns=['s4'])\n",
        "x_test = x_test.drop(columns=['s4']) #modify the test set as well by dropping the corresponding feature.\n",
        "k_value, valid_accuracy = run_knn(x_train, y_train)\n",
        "knn = neighbors.KNeighborsClassifier(n_neighbors=k_value)\n",
        "scores = cross_validate(knn, x_train, y_train, cv=5, return_train_score=True)\n",
        "\n",
        "print('Mean Train Accuracy:',scores['train_score'].mean()) # returns the mean cross-validation train score\n",
        "print('Mean Validation Accuracy:', valid_accuracy)\n",
        "\n",
        "knn.fit(x_train, y_train)\n",
        "accuracy = accuracy_score(y_test, knn.predict(x_test))\n",
        "print (\"Test set accuracy: \", accuracy * 100, \"%\")"
      ],
      "metadata": {
        "colab": {
          "base_uri": "https://localhost:8080/"
        },
        "id": "AA--hv-zswKO",
        "outputId": "89d49799-7875-49da-976f-272994c32383"
      },
      "execution_count": 19,
      "outputs": [
        {
          "output_type": "stream",
          "name": "stdout",
          "text": [
            "Mean Train Accuracy: 0.7669844586652736\n",
            "Mean Validation Accuracy: 0.7671602326811211\n",
            "Test set accuracy:  79.69924812030075 %\n"
          ]
        }
      ]
    },
    {
      "cell_type": "code",
      "metadata": {
        "id": "acdJ7EijBYqB",
        "colab": {
          "base_uri": "https://localhost:8080/"
        },
        "outputId": "f83f2071-36f0-48ce-869e-ac70f2b42e77"
      },
      "source": [
        "### YOUR CODE HERE ###\n",
        "#KNN trained with standardized data, 9 features\n",
        "x_train_sd = x_train_sd.drop(columns=['s4'])# drop a feature\n",
        "x_test_sd = x_test_sd.drop(columns=['s4'])\n",
        "\n",
        "k_value, valid_accuracy = run_knn(x_train_sd, y_train)\n",
        "knn = neighbors.KNeighborsClassifier(n_neighbors=k_value)\n",
        "scores = cross_validate(knn, x_train_sd, y_train, cv=5, return_train_score=True)\n",
        "\n",
        "print('Mean Train Accuracy:',scores['train_score'].mean()) # returns the mean cross-validation train score\n",
        "print('Mean Validation Accuracy:', valid_accuracy)\n",
        "\n",
        "knn.fit(x_train_sd, y_train)\n",
        "accuracy = accuracy_score(y_test, knn.predict(x_test_sd))\n",
        "print (\"Test set accuracy: \", accuracy * 100, \"%\")\n",
        "\n",
        "\n"
      ],
      "execution_count": 20,
      "outputs": [
        {
          "output_type": "stream",
          "name": "stdout",
          "text": [
            "Mean Train Accuracy: 0.7742555831265509\n",
            "Mean Validation Accuracy: 0.7638286620835537\n",
            "Test set accuracy:  76.69172932330827 %\n"
          ]
        }
      ]
    },
    {
      "cell_type": "markdown",
      "metadata": {
        "id": "yhCf82AOe3IS"
      },
      "source": [
        "References:\n",
        "\n",
        "https://towardsdatascience.com/decision-trees-in-machine-learning-641b9c4e8052\n",
        "\n",
        "https://www.analyticsvidhya.com/blog/2021/02/machine-learning-101-decision-tree-algorithm-for-classification/"
      ]
    }
  ]
}
